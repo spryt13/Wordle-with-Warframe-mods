{
 "cells": [
  {
   "cell_type": "code",
   "execution_count": 1,
   "id": "1c11fc9a-27fe-4508-8a3b-447e0012742f",
   "metadata": {},
   "outputs": [
    {
     "name": "stdout",
     "output_type": "stream",
     "text": [
      "[('squares', 1, 4, 9), ('doubles', 2, 4, 6), ('triples', 3, 6, 9), ('odds', 1, 3, 5)]\n"
     ]
    },
    {
     "data": {
      "text/plain": [
       "tuple"
      ]
     },
     "execution_count": 1,
     "metadata": {},
     "output_type": "execute_result"
    }
   ],
   "source": [
    "entries = [(\"squares\", 1, 4, 9), (\"doubles\", 2, 4, 6), (\"triples\", 3, 6, 9), (\"odds\", 1, 3, 5)]\n",
    "print(entries)\n",
    "type(entries[1])"
   ]
  },
  {
   "cell_type": "code",
   "execution_count": 7,
   "id": "4d903d1b-c774-4522-a11f-cd5cf74a4785",
   "metadata": {},
   "outputs": [],
   "source": [
    "entries = {\n",
    "    \"squares\" : (1, 4, 9),\n",
    "    \"doubles\" : (2, 4, 6),\n",
    "    \"triples\" : (3, 6, 9),\n",
    "    \"odds\" : (1, 3, 5)\n",
    "}"
   ]
  },
  {
   "cell_type": "code",
   "execution_count": 23,
   "id": "7cab57b7-1fb7-499f-99dd-70892abc4c88",
   "metadata": {},
   "outputs": [
    {
     "name": "stdout",
     "output_type": "stream",
     "text": [
      "doubles\n"
     ]
    }
   ],
   "source": [
    "print(random.choice(list(entries)))"
   ]
  },
  {
   "cell_type": "code",
   "execution_count": 12,
   "id": "feba402e-2b76-438c-982a-14f14755507f",
   "metadata": {},
   "outputs": [
    {
     "name": "stdout",
     "output_type": "stream",
     "text": [
      "squares\n",
      "doubles\n",
      "triples\n",
      "odds\n",
      "9\n"
     ]
    }
   ],
   "source": [
    "for entry in entries:\n",
    "    print(entry)\n",
    "print(entries[\"triples\"][2])"
   ]
  },
  {
   "cell_type": "code",
   "execution_count": 2,
   "id": "1ceb145b-2d81-4e43-aa73-9f50255703b2",
   "metadata": {},
   "outputs": [
    {
     "name": "stdout",
     "output_type": "stream",
     "text": [
      "squares\n",
      "doubles\n",
      "triples\n",
      "odds\n"
     ]
    }
   ],
   "source": [
    "for entry in entries:\n",
    "    print(entry[0])\n",
    "    type(entry)"
   ]
  },
  {
   "cell_type": "code",
   "execution_count": 3,
   "id": "dacce976-f103-48a0-8751-58bfef06287b",
   "metadata": {},
   "outputs": [],
   "source": [
    "import random"
   ]
  },
  {
   "cell_type": "code",
   "execution_count": 24,
   "id": "6db961fa-c815-4589-8260-d5ef47449fac",
   "metadata": {},
   "outputs": [],
   "source": [
    "def hit_check(entry, keyword):\n",
    "    if entry == keyword:\n",
    "        print(\"success\")\n",
    "        return 1\n",
    "    return 0"
   ]
  },
  {
   "cell_type": "code",
   "execution_count": 28,
   "id": "b5ff3b24-0560-4fcc-aeab-71825ec6b582",
   "metadata": {},
   "outputs": [],
   "source": [
    "def verify(entry, keyword):\n",
    "    k = 0\n",
    "    while k < len(entry):\n",
    "        if entry[k] > keyword[k]:\n",
    "            print(\"mniejsze od \" + str(entry[k]))\n",
    "        elif entry[k] < keyword[k]:\n",
    "            print(\"większe od \" + str(entry[k]))\n",
    "        else:\n",
    "            print(\"poprawnie\")\n",
    "        k = k + 1"
   ]
  },
  {
   "cell_type": "code",
   "execution_count": 32,
   "id": "4b303693-47be-4b5b-a406-84c7ba206b41",
   "metadata": {},
   "outputs": [
    {
     "name": "stdin",
     "output_type": "stream",
     "text": [
      " doubles\n"
     ]
    },
    {
     "name": "stdout",
     "output_type": "stream",
     "text": [
      "mniejsze od 2\n",
      "poprawnie\n",
      "większe od 6\n"
     ]
    },
    {
     "name": "stdin",
     "output_type": "stream",
     "text": [
      " squares\n"
     ]
    },
    {
     "name": "stdout",
     "output_type": "stream",
     "text": [
      "success\n"
     ]
    }
   ],
   "source": [
    "keyword = random.choice(list(entries))\n",
    "attempt_count = 0\n",
    "while attempt_count < 10:\n",
    "    entry = input()\n",
    "\n",
    "    if hit_check(entry, keyword) == 1:\n",
    "        break;\n",
    "    \n",
    "    verify(entries[entry], entries[keyword])\n",
    "\n",
    "    attempt_count = attempt_count + 1\n",
    "\n",
    "if attempt_count == 10:\n",
    "    print(\"failure\")"
   ]
  },
  {
   "cell_type": "code",
   "execution_count": null,
   "id": "32b15037-13ee-4bc0-8a1e-bd5db8a50e06",
   "metadata": {},
   "outputs": [],
   "source": []
  }
 ],
 "metadata": {
  "kernelspec": {
   "display_name": "Python 3 (ipykernel)",
   "language": "python",
   "name": "python3"
  },
  "language_info": {
   "codemirror_mode": {
    "name": "ipython",
    "version": 3
   },
   "file_extension": ".py",
   "mimetype": "text/x-python",
   "name": "python",
   "nbconvert_exporter": "python",
   "pygments_lexer": "ipython3",
   "version": "3.11.7"
  }
 },
 "nbformat": 4,
 "nbformat_minor": 5
}
